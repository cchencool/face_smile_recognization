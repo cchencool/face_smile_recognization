{
 "cells": [
  {
   "cell_type": "code",
   "execution_count": 1,
   "metadata": {},
   "outputs": [],
   "source": [
    "%matplotlib inline\n",
    "import os\n",
    "import math\n",
    "import numpy as np\n",
    "import pandas as pd\n",
    "from os.path import join as pjoin\n",
    "\n",
    "import matplotlib.pyplot as plt\n",
    "import cv2 as cv\n",
    "from skimage.io import imshow, imread, imsave\n",
    "from PIL import Image\n",
    "\n",
    "import warnings\n",
    "warnings.filterwarnings('ignore')\n",
    "\n",
    "work_dir = './data'\n",
    "file_path = './data/face/'\n",
    "label_data = './data/labels.csv'"
   ]
  },
  {
   "cell_type": "code",
   "execution_count": 2,
   "metadata": {},
   "outputs": [
    {
     "name": "stderr",
     "output_type": "stream",
     "text": [
      "Using TensorFlow backend.\n"
     ]
    }
   ],
   "source": [
    "from sklearn.model_selection import train_test_split\n",
    "from keras.utils.np_utils import to_categorical\n",
    "\n",
    "from keras.models import Sequential\n",
    "from keras.layers import Dense, Dropout, Flatten, Conv2D, MaxPool2D, BatchNormalization\n",
    "from keras.optimizers import RMSprop\n",
    "from keras.preprocessing.image import ImageDataGenerator\n",
    "from keras.callbacks import ReduceLROnPlateau, EarlyStopping\n",
    "\n",
    "from sklearn.preprocessing import normalize"
   ]
  },
  {
   "cell_type": "code",
   "execution_count": 3,
   "metadata": {},
   "outputs": [],
   "source": [
    "import dlib\n",
    "detector = dlib.get_frontal_face_detector()\n",
    "predictor = dlib.shape_predictor('./model/shape_predictor_5_face_landmarks.dat')"
   ]
  },
  {
   "cell_type": "code",
   "execution_count": 4,
   "metadata": {},
   "outputs": [],
   "source": [
    "WIDTH, HEIGHT = 96, 90 #48*2, 45*2\n",
    "LABEL_COUNT = 10"
   ]
  },
  {
   "cell_type": "code",
   "execution_count": 5,
   "metadata": {},
   "outputs": [],
   "source": [
    "# import mxnet as mx\n",
    "# from mtcnn_detector import MtcnnDetector\n",
    "# detector_mx = MtcnnDetector(model_folder='model', ctx=mx.cpu(0), num_worker = 4 , accurate_landmark = False)\n",
    "\n",
    "# def find_pts(img, verbose=0, is_show=False , is_rect=False, is_normalize=False):\n",
    "#     results = detector_mx.detect_face(img)\n",
    "#     pts_result = []\n",
    "#     if results != None and len(results[1]) > 0:\n",
    "        \n",
    "#         face_box = results[0][0]\n",
    "#         pts = results[1][0]\n",
    "    \n",
    "#         draw = img.copy()\n",
    "#         if is_rect :\n",
    "#             for j in range(5):\n",
    "#                 x, y = pts[j], pts[j + 5]\n",
    "#                 cv.circle(draw, (x, y), 1, (0, 0, 255), 2)\n",
    "#                 cv.putText(draw, str(j), (x, y), cv.FONT_HERSHEY_COMPLEX, 0.25, (0,255,0), 1)\n",
    "#                 mx, my, mw, mh = get_mouth_box(pts)\n",
    "#                 img = cv.rectangle(draw, (mx, my), (mx+mw, my+mh), (255, 0, 0), 1)\n",
    "#         if is_show:\n",
    "#             imshow(draw)\n",
    "        \n",
    "#         for j in range(5):\n",
    "#             x, y = pts[j], pts[j + 5]\n",
    "#             if is_normalize:\n",
    "#                 x = x / img.shape[0]\n",
    "#                 y = y / img.shape[1]                \n",
    "#             pts_result.append(x)\n",
    "#             pts_result.append(y)\n",
    "    \n",
    "#     return pts_result\n",
    "\n",
    "\n",
    "# def find_face_box(img, verbose=0, is_show=False , is_rect=False):\n",
    "#     results = detector_mx.detect_face(img)\n",
    "#     box = []\n",
    "#     if results != None and len(results[1]) > 0:\n",
    "        \n",
    "#         box = results[0][0]\n",
    "#         pts = results[1][0]\n",
    "    \n",
    "#         draw = img.copy()\n",
    "#         if is_rect :\n",
    "#             img = cv.rectangle(draw, (int(box[0]), int(box[1])), (int(box[2]), int(box[3])), (0, 255, 0), 1)\n",
    "            \n",
    "#         if is_show:\n",
    "#             imshow(draw)\n",
    "    \n",
    "#     return tuple([x if x > 0 else 0 for x in box[0:4]])"
   ]
  },
  {
   "cell_type": "code",
   "execution_count": 6,
   "metadata": {},
   "outputs": [],
   "source": [
    "def normalize_img(filename, is_grey=True, is_vectorize=False, width=96, height=90):\n",
    "    size = WIDTH, HEIGHT # (width, height)\n",
    "    if isinstance(filename, str):\n",
    "        im = Image.open(filename)\n",
    "    else:\n",
    "        im = Image.fromarray(filename)\n",
    "    resized_im = im.resize(size, Image.ANTIALIAS) # resize image\n",
    "    result = np.array(resized_im)\n",
    "    if is_grey:\n",
    "        im_grey = resized_im.convert('L') # convert the image to *greyscale*\n",
    "        im_array = np.array(im_grey) # convert to np array\n",
    "        result = im_array\n",
    "    if is_vectorize:\n",
    "        oned_array = result.reshape(size[0] * size[1])\n",
    "        result = oned_array\n",
    "    return result#np.array(resized_im)#oned_array\n",
    "\n",
    "\n",
    "def img_generator(data):\n",
    "    for i in range(len(data)):\n",
    "        im_info = data.iloc[i]\n",
    "        index = im_info['index']\n",
    "        path = im_info['path']\n",
    "        yield index, path\n",
    "\n",
    "        \n",
    "def get_partial(img, x, y, w, h):\n",
    "    return img[y:y+h, x:x+w]\n",
    "\n",
    "\n",
    "def check_creat_dir(save_path):\n",
    "    dir_path = os.path.dirname(save_path)\n",
    "    if not os.path.exists(dir_path):\n",
    "        print('create folder... %s' % dir_path)\n",
    "        os.makedirs(dir_path)"
   ]
  },
  {
   "cell_type": "code",
   "execution_count": 7,
   "metadata": {},
   "outputs": [],
   "source": [
    "def get_inver_norm_pts(img_lb, width=WIDTH, height=HEIGHT, is_unstd=True):\n",
    "    img_lb_xs = img_lb[np.arange(0, 9, 2)]\n",
    "    img_lb_ys = img_lb[np.arange(1, 11, 2)]\n",
    "\n",
    "    pts = []\n",
    "    for x,y in zip(img_lb_xs, img_lb_ys):\n",
    "        if is_unstd:\n",
    "            x *= width\n",
    "            y *= height\n",
    "        x = int(round(x))\n",
    "        y = int(round(y))\n",
    "        pts.append([x, y])\n",
    "    pts = np.array(pts)\n",
    "    return pts\n",
    "\n",
    "def find_face_param(pts):\n",
    "    eye_width = abs(pts[0][0] - pts[1][0])\n",
    "    face_x_left = pts[0][0] - eye_width * 4.3\n",
    "    face_width = eye_width*5.3\n",
    "\n",
    "    eye_y_avg = np.average(pts[0:4, 1])\n",
    "    eye_fmid_dist = pts[4][1] - eye_y_avg\n",
    "    face_y_up = eye_y_avg - eye_fmid_dist\n",
    "    face_height = eye_fmid_dist * 3.3\n",
    "    \n",
    "    return int(math.floor(face_x_left)), int(math.floor(face_y_up)), int(math.ceil(face_width)), int(math.ceil(face_height))\n",
    "\n",
    "def get_mouth_box(pts):\n",
    "    if isinstance(pts, np.ndarray) and pts.shape == (5,2):\n",
    "        p = pts[:,0].tolist()\n",
    "        p.extend(pts[:,1].tolist())\n",
    "        pts = p\n",
    "    \n",
    "    if len(pts) < 10:\n",
    "        return []\n",
    "    \n",
    "    box=[]\n",
    "    height = abs(pts[2+5]-pts[4+5])\n",
    "    width = abs(pts[4]-pts[3])\n",
    "\n",
    "    x = pts[3]*.95\n",
    "    y = pts[3+5] - height/2*0.8\n",
    "    w = width*1.1\n",
    "    h = height*1.3\n",
    "\n",
    "    box.append(int(math.floor(x)))\n",
    "    box.append(int(math.floor(y)))\n",
    "    box.append(int(math.ceil(w)))\n",
    "    box.append(int(math.ceil(h)))\n",
    "\n",
    "    return box"
   ]
  },
  {
   "cell_type": "code",
   "execution_count": 8,
   "metadata": {},
   "outputs": [],
   "source": [
    "pd_face = pd.read_csv('./data/face_index.csv')#, index_col=0)"
   ]
  },
  {
   "cell_type": "code",
   "execution_count": 9,
   "metadata": {},
   "outputs": [
    {
     "data": {
      "text/html": [
       "<div>\n",
       "<style scoped>\n",
       "    .dataframe tbody tr th:only-of-type {\n",
       "        vertical-align: middle;\n",
       "    }\n",
       "\n",
       "    .dataframe tbody tr th {\n",
       "        vertical-align: top;\n",
       "    }\n",
       "\n",
       "    .dataframe thead th {\n",
       "        text-align: right;\n",
       "    }\n",
       "</style>\n",
       "<table border=\"1\" class=\"dataframe\">\n",
       "  <thead>\n",
       "    <tr style=\"text-align: right;\">\n",
       "      <th></th>\n",
       "      <th>file_name</th>\n",
       "      <th>is_smile</th>\n",
       "      <th>yaw</th>\n",
       "      <th>pitch</th>\n",
       "      <th>roll</th>\n",
       "      <th>path</th>\n",
       "    </tr>\n",
       "  </thead>\n",
       "  <tbody>\n",
       "    <tr>\n",
       "      <th>0</th>\n",
       "      <td>file0001.jpg</td>\n",
       "      <td>1</td>\n",
       "      <td>-0.021162</td>\n",
       "      <td>0.059530</td>\n",
       "      <td>-0.039662</td>\n",
       "      <td>./faces/file0001.jpg</td>\n",
       "    </tr>\n",
       "    <tr>\n",
       "      <th>1</th>\n",
       "      <td>file0002.jpg</td>\n",
       "      <td>1</td>\n",
       "      <td>-0.057745</td>\n",
       "      <td>0.083098</td>\n",
       "      <td>-0.094952</td>\n",
       "      <td>./faces/file0002.jpg</td>\n",
       "    </tr>\n",
       "    <tr>\n",
       "      <th>2</th>\n",
       "      <td>file0003.jpg</td>\n",
       "      <td>1</td>\n",
       "      <td>0.095993</td>\n",
       "      <td>0.028798</td>\n",
       "      <td>0.065996</td>\n",
       "      <td>./faces/file0003.jpg</td>\n",
       "    </tr>\n",
       "    <tr>\n",
       "      <th>3</th>\n",
       "      <td>file0004.jpg</td>\n",
       "      <td>1</td>\n",
       "      <td>0.000000</td>\n",
       "      <td>0.047124</td>\n",
       "      <td>0.171268</td>\n",
       "      <td>./faces/file0004.jpg</td>\n",
       "    </tr>\n",
       "    <tr>\n",
       "      <th>4</th>\n",
       "      <td>file0005.jpg</td>\n",
       "      <td>1</td>\n",
       "      <td>0.036073</td>\n",
       "      <td>0.043633</td>\n",
       "      <td>-0.181721</td>\n",
       "      <td>./faces/file0005.jpg</td>\n",
       "    </tr>\n",
       "  </tbody>\n",
       "</table>\n",
       "</div>"
      ],
      "text/plain": [
       "      file_name  is_smile       yaw     pitch      roll                  path\n",
       "0  file0001.jpg         1 -0.021162  0.059530 -0.039662  ./faces/file0001.jpg\n",
       "1  file0002.jpg         1 -0.057745  0.083098 -0.094952  ./faces/file0002.jpg\n",
       "2  file0003.jpg         1  0.095993  0.028798  0.065996  ./faces/file0003.jpg\n",
       "3  file0004.jpg         1  0.000000  0.047124  0.171268  ./faces/file0004.jpg\n",
       "4  file0005.jpg         1  0.036073  0.043633 -0.181721  ./faces/file0005.jpg"
      ]
     },
     "execution_count": 9,
     "metadata": {},
     "output_type": "execute_result"
    }
   ],
   "source": [
    "pd_face.head()"
   ]
  },
  {
   "cell_type": "markdown",
   "metadata": {},
   "source": [
    "### 1.2 cut all faces data"
   ]
  },
  {
   "cell_type": "code",
   "execution_count": 10,
   "metadata": {},
   "outputs": [],
   "source": [
    "import threading, multiprocessing\n",
    "lock = multiprocessing.Lock()#threading.Lock()"
   ]
  },
  {
   "cell_type": "code",
   "execution_count": 11,
   "metadata": {},
   "outputs": [],
   "source": [
    "def get_both_face_data_lables(img_gen, pd_array, is_debug=False, is_save=False, is_multi_thread=True, name='f1'):\n",
    "    \n",
    "    import mxnet as mx\n",
    "    from mtcnn_detector import MtcnnDetector\n",
    "    detector_mx = MtcnnDetector(model_folder='model', ctx=mx.cpu(0), num_worker=2, accurate_landmark = False)\n",
    "    \n",
    "    def find_pts(img, verbose=0, is_show=False , is_rect=False, is_normalize=False):\n",
    "        results = detector_mx.detect_face(img)\n",
    "        pts_result = []\n",
    "        if results != None and len(results[1]) > 0:\n",
    "            face_box = results[0][0]\n",
    "            pts = results[1][0]\n",
    "            for j in range(5):\n",
    "                x, y = pts[j], pts[j + 5]\n",
    "                if is_normalize:\n",
    "                    x = x / img.shape[1]                \n",
    "                    y = y / img.shape[0]\n",
    "                pts_result.append(x)\n",
    "                pts_result.append(y)\n",
    "        return pts_result\n",
    "\n",
    "    def find_face_box(img, verbose=0, is_show=False , is_rect=False):\n",
    "        results = detector_mx.detect_face(img)\n",
    "        box = []\n",
    "        if results != None and len(results[1]) > 0:\n",
    "            box = results[0][0]\n",
    "            pts = results[1][0]\n",
    "        return tuple([x if x > 0 else 0 for x in box[0:4]])\n",
    "    \n",
    "    def cut_face(img, width=96, height=90, pt_length=5, is_grey=False, is_vectorize=False):\n",
    "        fpt = find_face_box(img=img)#find_pts(img=img, is_normalize=False, is_get_face=True)\n",
    "        lu_x, lu_y, rb_x, rb_y = fpt\n",
    "        lu_x = math.floor(lu_x)\n",
    "        lu_y = math.floor(lu_y)\n",
    "        rb_x = math.ceil(rb_x)\n",
    "        rb_y = math.ceil(rb_y)\n",
    "        face = img[lu_y:rb_y, lu_x:rb_x]\n",
    "        face = normalize_img(face, is_grey=is_grey or is_vectorize, is_vectorize=is_vectorize, width=WIDTH, height=HEIGHT)\n",
    "        return face\n",
    "\n",
    "    def face_generator(img_gen, verbos=0):\n",
    "        for index, img_path in img_gen:\n",
    "            img = imread(img_path)\n",
    "            try:\n",
    "                face = cut_face(img, is_vectorize=False, is_grey=False, width=WIDTH, height=HEIGHT)\n",
    "                pts = find_pts(face, is_normalize=True)\n",
    "                face = normalize_img(face, is_grey=True, width=WIDTH, height=HEIGHT)\n",
    "                if len(pts) > 0:\n",
    "                    yield index, img_path, face, pts\n",
    "            except:\n",
    "                if verbos > 1:\n",
    "                    print(f\"error found for {img_path}\")\n",
    "#         img_gen.close()\n",
    "    \n",
    "    print(f'{multiprocessing.current_process().name} process start...')\n",
    "    \n",
    "    # init generator\n",
    "    face_gen = face_generator(img_gen)\n",
    "    \n",
    "    # init DataFrame\n",
    "    columns = [x for x in range(WIDTH*HEIGHT)]\n",
    "    for i in range(LABEL_COUNT):\n",
    "        columns.insert(i, f'{i}_lb')\n",
    "    columns.insert(0, 'index')\n",
    "    columns.insert(1, 'path')\n",
    "    face_label_data_pd = pd.DataFrame(columns=columns)\n",
    "\n",
    "    # append data\n",
    "    counter = 0\n",
    "    for index, img_path, face, pts in face_gen:\n",
    "        counter += 1\n",
    "        if is_debug and counter > 9:\n",
    "            break\n",
    "        if len(pts) == 0:\n",
    "            continue\n",
    "        \n",
    "        df = pd.DataFrame(np.array(face).reshape(1, -1))\n",
    "        # insert label\n",
    "        for i, pt in enumerate(pts):\n",
    "            df[f'{i}_lb'] = pt\n",
    "        df['index'] = index\n",
    "        df['path'] = img_path\n",
    "        face_label_data_pd = face_label_data_pd.append(df, ignore_index=True)\n",
    "\n",
    "    # resort header\n",
    "    cols = columns#list(face_label_data_pd)\n",
    "    cols.insert(0, cols.pop(cols.index('index')))\n",
    "    cols.insert(1, cols.pop(cols.index('path')))\n",
    "    for i, pt in enumerate(range(LABEL_COUNT)):\n",
    "        cols.insert(i+2, cols.pop(cols.index(f'{i}_lb')))\n",
    "    face_label_data_pd = face_label_data_pd.ix[:,cols]\n",
    "    face_label_data_pd = face_label_data_pd.set_index('index')\n",
    "    \n",
    "    # save in gloabel arr. for threads\n",
    "    if is_multi_thread:\n",
    "#         global pd_array\n",
    "        lock.acquire()\n",
    "        pd_array.append(face_label_data_pd)\n",
    "        lock.release()\n",
    "    else:\n",
    "        # save data\n",
    "        if is_save:\n",
    "            face_label_data_pd.to_csv('./data/face_5pt_img_data.zip', index=False, compression='zip')\n",
    "        return face_label_data_pd\n",
    "    \n",
    "    print(f'{multiprocessing.current_process().name} process end...')"
   ]
  },
  {
   "cell_type": "code",
   "execution_count": 12,
   "metadata": {},
   "outputs": [],
   "source": [
    "# test code \n",
    "import time\n",
    "def call(name):\n",
    "    print(f'{name} thread start...')\n",
    "    print(f'{multiprocessing.current_process().name} thread start...')\n",
    "    time.sleep(1)\n",
    "    global pd_array\n",
    "    pd_array.append(name)\n",
    "    print(f'{name} thread end...')"
   ]
  },
  {
   "cell_type": "code",
   "execution_count": 13,
   "metadata": {},
   "outputs": [],
   "source": [
    "def process_data(pd_array, is_debug=True):\n",
    "    # generate procee img range for each thread\n",
    "    thread_img_range = []\n",
    "    start = 1\n",
    "    span = 500\n",
    "    arr_count = 8\n",
    "    for x in range(arr_count):\n",
    "        start = x*span\n",
    "    #     print((start,start+span-1))\n",
    "        thread_img_range.append((start,start+span))\n",
    "    thread_img_range = np.array(thread_img_range)\n",
    "\n",
    "    # init image generators\n",
    "    img_gens = []\n",
    "    for i in range(arr_count):\n",
    "        pd_slice = pd_face.reset_index()[thread_img_range[i][0]:thread_img_range[i][1]]\n",
    "        img_gens.append(img_generator(pd_slice))\n",
    "\n",
    "    # run multi process to process faces.\n",
    "    threads = []\n",
    "    # for i in range(100):\n",
    "    for i, img_gen in enumerate(img_gens):\n",
    "        t = multiprocessing.Process(target=get_both_face_data_lables, args=(img_gen, pd_array, is_debug, False, f'p{i}'),name=f'p{i}')\n",
    "#         t = multiprocessing.Process(target=call, name=f'p{i}', args=(f'p{i}',))\n",
    "        t.start()\n",
    "        threads.append(t)\n",
    "\n",
    "    for t in threads:\n",
    "        t.join()\n",
    "    \n",
    "    return pd_array"
   ]
  },
  {
   "cell_type": "code",
   "execution_count": 28,
   "metadata": {},
   "outputs": [
    {
     "name": "stdout",
     "output_type": "stream",
     "text": [
      "p1 process start...\n",
      "p0 process start...\n",
      "p3 process start...\n",
      "p4 process start...\n",
      "p5 process start...\n",
      "p2 process start...\n",
      "p7 process start...\n",
      "p6 process start...\n",
      "p0 process end...\n",
      "p3 process end...\n",
      "p4 process end...\n",
      "p6 process end...\n",
      "p1 process end...\n",
      "p2 process end...\n",
      "p5 process end...\n",
      "p7 process end...\n"
     ]
    },
    {
     "data": {
      "text/plain": [
       "<ListProxy object, typeid 'list' at 0x1113780f0>"
      ]
     },
     "execution_count": 28,
     "metadata": {},
     "output_type": "execute_result"
    }
   ],
   "source": [
    "pd_array = multiprocessing.Manager().list() # shared list in processors\n",
    "process_data(pd_array, is_debug=False)"
   ]
  },
  {
   "cell_type": "code",
   "execution_count": 29,
   "metadata": {},
   "outputs": [
    {
     "name": "stdout",
     "output_type": "stream",
     "text": [
      "8\n"
     ]
    }
   ],
   "source": [
    "print(len(pd_array))"
   ]
  },
  {
   "cell_type": "code",
   "execution_count": 30,
   "metadata": {},
   "outputs": [],
   "source": [
    "# merge all\n",
    "face_label_data_pd = pd_array[0]\n",
    "for i, pd_ele in enumerate(pd_array):\n",
    "    if i == 0: continue\n",
    "    face_label_data_pd = face_label_data_pd.append(pd_ele)\n",
    "face_label_data_pd.sort_index(inplace=True)\n",
    "face_rec_data_pd = face_label_data_pd"
   ]
  },
  {
   "cell_type": "code",
   "execution_count": 37,
   "metadata": {},
   "outputs": [
    {
     "data": {
      "text/plain": [
       "2272"
      ]
     },
     "execution_count": 37,
     "metadata": {},
     "output_type": "execute_result"
    }
   ],
   "source": [
    "len(face_label_data_pd)"
   ]
  },
  {
   "cell_type": "code",
   "execution_count": 38,
   "metadata": {},
   "outputs": [],
   "source": [
    "face_label_data_pd.to_csv('./data/face_5pt_img_data.zip', index=False, compression='zip')"
   ]
  },
  {
   "cell_type": "code",
   "execution_count": 18,
   "metadata": {},
   "outputs": [],
   "source": [
    "# test see result\n",
    "# img_gen = img_generator(pd_face.reset_index())\n",
    "# img = imread(next(img_gen)[1])\n",
    "# fpt = find_face_box(img=img)#find_pts(img=img, is_normalize=False, is_get_face=True)\n",
    "# if len(fpt) > 0:\n",
    "#     lu_x, lu_y, rb_x, rb_y = fpt\n",
    "#     lu_x = math.floor(lu_x)\n",
    "#     lu_y = math.floor(lu_y)\n",
    "#     rb_x = math.ceil(rb_x)\n",
    "#     rb_y = math.ceil(rb_y)\n",
    "#     face = img[lu_y:rb_y, lu_x:rb_x]\n",
    "#     face = normalize_img(face, is_grey=False, is_vectorize=False, width=WIDTH, height=HEIGHT)\n",
    "# #     imshow(face)\n",
    "#     pts = find_pts(face, is_rect=True, is_show=True)\n",
    "#     get_mouth_box(pts)\n",
    "#     face = normalize_img(face, is_grey=True, width=WIDTH, height=HEIGHT)"
   ]
  },
  {
   "cell_type": "markdown",
   "metadata": {},
   "source": [
    "### ~~1.3 generate labels using dlib~~"
   ]
  },
  {
   "cell_type": "code",
   "execution_count": 178,
   "metadata": {},
   "outputs": [],
   "source": [
    "# def get_labels(img_gen=None, is_debug=False, is_save=False):\n",
    "    \n",
    "#     if img_gen == None:\n",
    "#         img_gen = img_generator(pd_face.reset_index())\n",
    "    \n",
    "#     labels_pd = get_face_mouth_position(img_gen, verbos=0, is_normalize=False, is_debug=is_debug,#True, \n",
    "#                                         is_compress=True, width=WIDTH, height=HEIGHT)\n",
    "#     # save data\n",
    "#     if is_save:\n",
    "#         labels_pd.to_csv('./face_5pt_data.csv', index=False)\n",
    "    \n",
    "#     return labels_pd\n",
    "\n",
    "# # labels_pd = get_labels(is_debug=True, is_save=False)\n",
    "# labels_pd = get_labels(is_debug=False, is_save=True)"
   ]
  },
  {
   "cell_type": "markdown",
   "metadata": {},
   "source": [
    "### ~~1.4 change img to csv format. append labels~~"
   ]
  },
  {
   "cell_type": "code",
   "execution_count": 216,
   "metadata": {},
   "outputs": [],
   "source": [
    "# def get_both_img_data_lables(labels_pd, is_save=False):\n",
    "#     imgs = []\n",
    "#     for i_index in range(len(labels_pd)):\n",
    "#         img = normalize_img(labels_pd.iloc[i_index].path, is_grey=True, is_vectorize=True, width=WIDTH, height=HEIGHT)#False)\n",
    "#         imgs.append(img)\n",
    "#     imgs = np.array(imgs)\n",
    "#     face_data_pd = pd.DataFrame(imgs)\n",
    "\n",
    "#     face_rec_data_pd = labels_pd.drop('index', axis=1).join(face_data_pd, lsuffix='_lb')\n",
    "#     if is_save:\n",
    "#         face_rec_data_pd.to_csv('./face_5pt_img_data.zip', index=False, compression='zip')\n",
    "#     return face_rec_data_pd\n",
    "\n",
    "# # face_rec_data_pd = get_both_img_data_lables(labels_pd, is_save=False)\n",
    "# face_rec_data_pd = get_both_img_data_lables(labels_pd, is_save=True)"
   ]
  },
  {
   "cell_type": "markdown",
   "metadata": {},
   "source": [
    "**read data from saved data**"
   ]
  },
  {
   "cell_type": "code",
   "execution_count": 39,
   "metadata": {},
   "outputs": [],
   "source": [
    "WIDTH, HEIGHT = 96, 90\n",
    "face_rec_data_pd = pd.read_csv('./data/face_5pt_img_data.zip')"
   ]
  },
  {
   "cell_type": "code",
   "execution_count": 42,
   "metadata": {},
   "outputs": [
    {
     "data": {
      "text/html": [
       "<div>\n",
       "<style scoped>\n",
       "    .dataframe tbody tr th:only-of-type {\n",
       "        vertical-align: middle;\n",
       "    }\n",
       "\n",
       "    .dataframe tbody tr th {\n",
       "        vertical-align: top;\n",
       "    }\n",
       "\n",
       "    .dataframe thead th {\n",
       "        text-align: right;\n",
       "    }\n",
       "</style>\n",
       "<table border=\"1\" class=\"dataframe\">\n",
       "  <thead>\n",
       "    <tr style=\"text-align: right;\">\n",
       "      <th></th>\n",
       "      <th>path</th>\n",
       "      <th>0_lb</th>\n",
       "      <th>1_lb</th>\n",
       "      <th>2_lb</th>\n",
       "      <th>3_lb</th>\n",
       "      <th>4_lb</th>\n",
       "      <th>5_lb</th>\n",
       "      <th>6_lb</th>\n",
       "      <th>7_lb</th>\n",
       "      <th>8_lb</th>\n",
       "      <th>...</th>\n",
       "      <th>8630</th>\n",
       "      <th>8631</th>\n",
       "      <th>8632</th>\n",
       "      <th>8633</th>\n",
       "      <th>8634</th>\n",
       "      <th>8635</th>\n",
       "      <th>8636</th>\n",
       "      <th>8637</th>\n",
       "      <th>8638</th>\n",
       "      <th>8639</th>\n",
       "    </tr>\n",
       "  </thead>\n",
       "  <tbody>\n",
       "    <tr>\n",
       "      <th>0</th>\n",
       "      <td>./faces/file0003.jpg</td>\n",
       "      <td>0.367192</td>\n",
       "      <td>0.393602</td>\n",
       "      <td>0.783597</td>\n",
       "      <td>0.412623</td>\n",
       "      <td>0.592809</td>\n",
       "      <td>0.616602</td>\n",
       "      <td>0.352370</td>\n",
       "      <td>0.767481</td>\n",
       "      <td>0.749275</td>\n",
       "      <td>...</td>\n",
       "      <td>44</td>\n",
       "      <td>41</td>\n",
       "      <td>39</td>\n",
       "      <td>39</td>\n",
       "      <td>43</td>\n",
       "      <td>47</td>\n",
       "      <td>46</td>\n",
       "      <td>44</td>\n",
       "      <td>43</td>\n",
       "      <td>41</td>\n",
       "    </tr>\n",
       "    <tr>\n",
       "      <th>1</th>\n",
       "      <td>./faces/file0004.jpg</td>\n",
       "      <td>0.338264</td>\n",
       "      <td>0.365705</td>\n",
       "      <td>0.781414</td>\n",
       "      <td>0.421890</td>\n",
       "      <td>0.530003</td>\n",
       "      <td>0.631924</td>\n",
       "      <td>0.299466</td>\n",
       "      <td>0.736060</td>\n",
       "      <td>0.685925</td>\n",
       "      <td>...</td>\n",
       "      <td>25</td>\n",
       "      <td>34</td>\n",
       "      <td>48</td>\n",
       "      <td>55</td>\n",
       "      <td>59</td>\n",
       "      <td>54</td>\n",
       "      <td>45</td>\n",
       "      <td>41</td>\n",
       "      <td>46</td>\n",
       "      <td>51</td>\n",
       "    </tr>\n",
       "    <tr>\n",
       "      <th>2</th>\n",
       "      <td>./faces/file0006.jpg</td>\n",
       "      <td>0.356873</td>\n",
       "      <td>0.383002</td>\n",
       "      <td>0.741548</td>\n",
       "      <td>0.368113</td>\n",
       "      <td>0.570701</td>\n",
       "      <td>0.537994</td>\n",
       "      <td>0.373346</td>\n",
       "      <td>0.682955</td>\n",
       "      <td>0.744870</td>\n",
       "      <td>...</td>\n",
       "      <td>39</td>\n",
       "      <td>39</td>\n",
       "      <td>39</td>\n",
       "      <td>37</td>\n",
       "      <td>35</td>\n",
       "      <td>37</td>\n",
       "      <td>40</td>\n",
       "      <td>44</td>\n",
       "      <td>44</td>\n",
       "      <td>43</td>\n",
       "    </tr>\n",
       "    <tr>\n",
       "      <th>3</th>\n",
       "      <td>./faces/file0007.jpg</td>\n",
       "      <td>0.329195</td>\n",
       "      <td>0.399733</td>\n",
       "      <td>0.744883</td>\n",
       "      <td>0.411173</td>\n",
       "      <td>0.548061</td>\n",
       "      <td>0.608395</td>\n",
       "      <td>0.322923</td>\n",
       "      <td>0.740519</td>\n",
       "      <td>0.724611</td>\n",
       "      <td>...</td>\n",
       "      <td>137</td>\n",
       "      <td>136</td>\n",
       "      <td>136</td>\n",
       "      <td>136</td>\n",
       "      <td>136</td>\n",
       "      <td>135</td>\n",
       "      <td>135</td>\n",
       "      <td>134</td>\n",
       "      <td>133</td>\n",
       "      <td>134</td>\n",
       "    </tr>\n",
       "    <tr>\n",
       "      <th>4</th>\n",
       "      <td>./faces/file0011.jpg</td>\n",
       "      <td>0.320577</td>\n",
       "      <td>0.379202</td>\n",
       "      <td>0.717970</td>\n",
       "      <td>0.374838</td>\n",
       "      <td>0.528838</td>\n",
       "      <td>0.525132</td>\n",
       "      <td>0.313340</td>\n",
       "      <td>0.692244</td>\n",
       "      <td>0.728719</td>\n",
       "      <td>...</td>\n",
       "      <td>63</td>\n",
       "      <td>53</td>\n",
       "      <td>42</td>\n",
       "      <td>40</td>\n",
       "      <td>54</td>\n",
       "      <td>74</td>\n",
       "      <td>86</td>\n",
       "      <td>88</td>\n",
       "      <td>87</td>\n",
       "      <td>86</td>\n",
       "    </tr>\n",
       "  </tbody>\n",
       "</table>\n",
       "<p>5 rows × 8651 columns</p>\n",
       "</div>"
      ],
      "text/plain": [
       "                   path      0_lb      1_lb      2_lb      3_lb      4_lb  \\\n",
       "0  ./faces/file0003.jpg  0.367192  0.393602  0.783597  0.412623  0.592809   \n",
       "1  ./faces/file0004.jpg  0.338264  0.365705  0.781414  0.421890  0.530003   \n",
       "2  ./faces/file0006.jpg  0.356873  0.383002  0.741548  0.368113  0.570701   \n",
       "3  ./faces/file0007.jpg  0.329195  0.399733  0.744883  0.411173  0.548061   \n",
       "4  ./faces/file0011.jpg  0.320577  0.379202  0.717970  0.374838  0.528838   \n",
       "\n",
       "       5_lb      6_lb      7_lb      8_lb  ...   8630  8631  8632  8633  8634  \\\n",
       "0  0.616602  0.352370  0.767481  0.749275  ...     44    41    39    39    43   \n",
       "1  0.631924  0.299466  0.736060  0.685925  ...     25    34    48    55    59   \n",
       "2  0.537994  0.373346  0.682955  0.744870  ...     39    39    39    37    35   \n",
       "3  0.608395  0.322923  0.740519  0.724611  ...    137   136   136   136   136   \n",
       "4  0.525132  0.313340  0.692244  0.728719  ...     63    53    42    40    54   \n",
       "\n",
       "   8635  8636  8637  8638  8639  \n",
       "0    47    46    44    43    41  \n",
       "1    54    45    41    46    51  \n",
       "2    37    40    44    44    43  \n",
       "3   135   135   134   133   134  \n",
       "4    74    86    88    87    86  \n",
       "\n",
       "[5 rows x 8651 columns]"
      ]
     },
     "execution_count": 42,
     "metadata": {},
     "output_type": "execute_result"
    }
   ],
   "source": [
    "face_rec_data_pd.head()"
   ]
  },
  {
   "cell_type": "markdown",
   "metadata": {},
   "source": [
    "### 1.5 revert data & check accuracy"
   ]
  },
  {
   "cell_type": "markdown",
   "metadata": {},
   "source": [
    "**reverted data**"
   ]
  },
  {
   "cell_type": "code",
   "execution_count": 36,
   "metadata": {},
   "outputs": [
    {
     "data": {
      "text/plain": [
       "<matplotlib.image.AxesImage at 0x1c4797b080>"
      ]
     },
     "execution_count": 36,
     "metadata": {},
     "output_type": "execute_result"
    },
    {
     "data": {
      "image/png": "[encoded data removed]",
      "text/plain": [
       "<Figure size 432x288 with 1 Axes>"
      ]
     },
     "metadata": {
      "needs_background": "light"
     },
     "output_type": "display_data"
    }
   ],
   "source": [
    "im_idx = 33\n",
    "img = face_rec_data_pd.iloc[:,11:].iloc[im_idx].astype('uint8').values.reshape(HEIGHT, WIDTH)\n",
    "img_lb = face_rec_data_pd.iloc[:,1:11].iloc[im_idx]\n",
    "pts = get_inver_norm_pts(img_lb)\n",
    "# for x, y in zip(pts[:,0], pts[:,1]):\n",
    "img_cp = img.copy()\n",
    "for i, pt in enumerate(pts):\n",
    "    img_cp = cv.circle(img_cp, (pt[0], pt[1]), 1, (0,0,255), 1)\n",
    "    cv.putText(img_cp, str(i), (pt[0], pt[1]), cv.FONT_HERSHEY_COMPLEX, 0.25, (0,255,0), 1)\n",
    "    \n",
    "fx, fy, fw, fh = get_mouth_box(pts)#find_face_param(pts)\n",
    "cv.rectangle(img_cp, (fx, fy), (fx+fw, fy+fh), (255, 0, 0), 1)\n",
    "    \n",
    "imshow(img_cp)"
   ]
  },
  {
   "cell_type": "markdown",
   "metadata": {},
   "source": [
    "## train model"
   ]
  },
  {
   "cell_type": "code",
   "execution_count": 14,
   "metadata": {},
   "outputs": [],
   "source": [
    "WIDTH, HEIGHT = 96, 90"
   ]
  },
  {
   "cell_type": "code",
   "execution_count": 6,
   "metadata": {},
   "outputs": [],
   "source": [
    "face_rec_data_pd = pd.read_csv('./data/face_5pt_img_data.zip')"
   ]
  },
  {
   "cell_type": "code",
   "execution_count": 7,
   "metadata": {},
   "outputs": [],
   "source": [
    "face_data = face_rec_data_pd.iloc[:,11:].astype('uint8')\n",
    "face_labels_pd = face_rec_data_pd.iloc[:,1:11]"
   ]
  },
  {
   "cell_type": "code",
   "execution_count": 8,
   "metadata": {},
   "outputs": [],
   "source": [
    "face_data = face_data / 255"
   ]
  },
  {
   "cell_type": "code",
   "execution_count": 15,
   "metadata": {},
   "outputs": [],
   "source": [
    "x = face_labels_pd.values[:,np.arange(0, 9, 2)] / WIDTH\n",
    "y = face_labels_pd.values[:, np.arange(1, 11, 2)] / HEIGHT\n",
    "labels = np.zeros(face_labels_pd.shape[0] * face_labels_pd.shape[1]).reshape(face_labels_pd.shape[0], face_labels_pd.shape[1])\n",
    "labels[:,np.arange(0, 9, 2)] = x\n",
    "labels[:, np.arange(1, 11, 2)] = y"
   ]
  },
  {
   "cell_type": "code",
   "execution_count": 16,
   "metadata": {},
   "outputs": [],
   "source": [
    "face_data = face_data.values.reshape(-1, HEIGHT, WIDTH, 1)"
   ]
  },
  {
   "cell_type": "code",
   "execution_count": 17,
   "metadata": {},
   "outputs": [],
   "source": [
    "random_seed = 5012\n",
    "X_train, X_val, Y_train, Y_val = train_test_split(face_data, labels, test_size=0.3, random_state=random_seed)"
   ]
  },
  {
   "cell_type": "code",
   "execution_count": 18,
   "metadata": {},
   "outputs": [],
   "source": [
    "model = Sequential()\n",
    "model.add(Conv2D(filters=32, kernel_size=(3,3), padding='Same',\n",
    "                activation='relu', input_shape=(HEIGHT, WIDTH, 1)))\n",
    "model.add(MaxPool2D(pool_size=(2,2)))\n",
    "\n",
    "model.add(Conv2D(filters=64, kernel_size=(2,2), padding='Same',\n",
    "                activation='relu'))\n",
    "model.add(MaxPool2D(pool_size=(2,2)))\n",
    "\n",
    "model.add(Conv2D(filters=128, kernel_size=(2,2), padding='Same',\n",
    "                activation='relu'))\n",
    "model.add(MaxPool2D(pool_size=(2,2)))\n",
    "\n",
    "model.add(Flatten())\n",
    "model.add(Dense(1024, activation='relu'))\n",
    "model.add(Dropout(0.5))\n",
    "model.add(Dense(1024, activation='relu'))\n",
    "model.add(Dense(units=10, activation='relu'))"
   ]
  },
  {
   "cell_type": "code",
   "execution_count": 19,
   "metadata": {},
   "outputs": [
    {
     "name": "stdout",
     "output_type": "stream",
     "text": [
      "_________________________________________________________________\n",
      "Layer (type)                 Output Shape              Param #   \n",
      "=================================================================\n",
      "conv2d_1 (Conv2D)            (None, 90, 96, 32)        320       \n",
      "_________________________________________________________________\n",
      "max_pooling2d_1 (MaxPooling2 (None, 45, 48, 32)        0         \n",
      "_________________________________________________________________\n",
      "conv2d_2 (Conv2D)            (None, 45, 48, 64)        8256      \n",
      "_________________________________________________________________\n",
      "max_pooling2d_2 (MaxPooling2 (None, 22, 24, 64)        0         \n",
      "_________________________________________________________________\n",
      "conv2d_3 (Conv2D)            (None, 22, 24, 128)       32896     \n",
      "_________________________________________________________________\n",
      "max_pooling2d_3 (MaxPooling2 (None, 11, 12, 128)       0         \n",
      "_________________________________________________________________\n",
      "flatten_1 (Flatten)          (None, 16896)             0         \n",
      "_________________________________________________________________\n",
      "dense_1 (Dense)              (None, 1024)              17302528  \n",
      "_________________________________________________________________\n",
      "dropout_1 (Dropout)          (None, 1024)              0         \n",
      "_________________________________________________________________\n",
      "dense_2 (Dense)              (None, 1024)              1049600   \n",
      "_________________________________________________________________\n",
      "dense_3 (Dense)              (None, 10)                10250     \n",
      "=================================================================\n",
      "Total params: 18,403,850\n",
      "Trainable params: 18,403,850\n",
      "Non-trainable params: 0\n",
      "_________________________________________________________________\n"
     ]
    }
   ],
   "source": [
    "# define the optimizer\n",
    "optimizer = RMSprop(lr=0.001, rho=0.9, epsilon=1e-08, decay=0.0)\n",
    "# compile the model\n",
    "model.compile(optimizer=optimizer, loss='mse')\n",
    "\n",
    "model.summary()"
   ]
  },
  {
   "cell_type": "code",
   "execution_count": 20,
   "metadata": {},
   "outputs": [],
   "source": [
    "# datagen = ImageDataGenerator(featurewise_center=False,\n",
    "#                             samplewise_center=False,\n",
    "#                             featurewise_std_normalization=False,\n",
    "#                             samplewise_std_normalization=False,\n",
    "#                             zca_whitening=False,\n",
    "#                             rotation_range=10,\n",
    "#                             zoom_range=0.2,\n",
    "#                             width_shift_range=0.3,\n",
    "#                             height_shift_range=0.3,\n",
    "#                             horizontal_flip=False,\n",
    "#                             vertical_flip=False)\n",
    "# datagen.fit(X_train) #.reshape(-1, 2501, 8640, -1))"
   ]
  },
  {
   "cell_type": "code",
   "execution_count": 21,
   "metadata": {},
   "outputs": [],
   "source": [
    "# set a early stopping\n",
    "early_stopping = EarlyStopping(monitor='val_loss', patience=50, verbose=2)\n",
    "# set a learning rate annealer\n",
    "learning_rate_reduction = ReduceLROnPlateau(monitor='val_loss',\n",
    "                                           patience=3,\n",
    "                                           verbose=1,\n",
    "                                           factor=0.5,\n",
    "                                           min_lr=0.0001)\n",
    "epochs = 10\n",
    "batch_size = 80"
   ]
  },
  {
   "cell_type": "code",
   "execution_count": 65,
   "metadata": {},
   "outputs": [
    {
     "name": "stdout",
     "output_type": "stream",
     "text": [
      "Train on 2266 samples, validate on 972 samples\n",
      "Epoch 1/10\n",
      " - 25s - loss: 6.8728e-05 - val_loss: 2.6339e-05\n",
      "Epoch 2/10\n",
      " - 28s - loss: 2.6345e-05 - val_loss: 2.6339e-05\n",
      "Epoch 3/10\n",
      " - 29s - loss: 2.6345e-05 - val_loss: 2.6339e-05\n",
      "Epoch 4/10\n",
      " - 24s - loss: 2.7110e-05 - val_loss: 2.6339e-05\n",
      "\n",
      "Epoch 00004: ReduceLROnPlateau reducing learning rate to 0.0005000000237487257.\n",
      "Epoch 5/10\n",
      " - 23s - loss: 2.6345e-05 - val_loss: 2.6339e-05\n",
      "Epoch 6/10\n",
      " - 25s - loss: 2.6345e-05 - val_loss: 2.6339e-05\n",
      "Epoch 7/10\n",
      " - 28s - loss: 2.6345e-05 - val_loss: 2.6339e-05\n",
      "\n",
      "Epoch 00007: ReduceLROnPlateau reducing learning rate to 0.0002500000118743628.\n",
      "Epoch 8/10\n",
      " - 26s - loss: 2.6345e-05 - val_loss: 2.6339e-05\n",
      "Epoch 9/10\n",
      " - 26s - loss: 2.6345e-05 - val_loss: 2.6339e-05\n",
      "Epoch 10/10\n",
      " - 33s - loss: 2.6345e-05 - val_loss: 2.6339e-05\n",
      "\n",
      "Epoch 00010: ReduceLROnPlateau reducing learning rate to 0.0001250000059371814.\n"
     ]
    }
   ],
   "source": [
    "# # without data augmentation\n",
    "history = model.fit(X_train, Y_train,\n",
    "                    batch_size=batch_size,\n",
    "                    epochs=epochs,\n",
    "                    validation_data=(X_val, Y_val),\n",
    "                    verbose=2,\n",
    "                    callbacks=[learning_rate_reduction, early_stopping])\n",
    "# with data augmentation\n",
    "# history = model.fit_generator(datagen.flow(X_train, Y_train, batch_size=batch_size), \n",
    "#                               epochs=epochs, \n",
    "#                               validation_data=(X_val, Y_val), \n",
    "#                               verbose=2, \n",
    "#                               steps_per_epoch=10, \n",
    "#                               callbacks=[learning_rate_reduction])"
   ]
  },
  {
   "cell_type": "code",
   "execution_count": 66,
   "metadata": {},
   "outputs": [
    {
     "data": {
      "image/png": "[encoded data removed]",
      "text/plain": [
       "<Figure size 432x288 with 2 Axes>"
      ]
     },
     "metadata": {
      "needs_background": "light"
     },
     "output_type": "display_data"
    }
   ],
   "source": [
    "fig, ax = plt.subplots(2,1)\n",
    "ax[0].plot(history.history['loss'], color='b', label='Traning loss')\n",
    "ax[0].plot(history.history['val_loss'], color='r', label='Validation loss', axes=ax[0])\n",
    "legend = ax[0].legend(loc='best', shadow=True)\n",
    "\n",
    "# ax[1].plot(history.history['acc'], color='b', label='Training accuracy')\n",
    "# ax[1].plot(history.history['val_acc'], color='r', label='Validation accuracy')\n",
    "# legend = ax[1].legend(loc='best', shadow=True)\n",
    "fig.show()"
   ]
  },
  {
   "cell_type": "code",
   "execution_count": 67,
   "metadata": {},
   "outputs": [],
   "source": [
    "model.save('./model/model_face_rec.h5')"
   ]
  },
  {
   "cell_type": "markdown",
   "metadata": {},
   "source": [
    "## Check Performance"
   ]
  },
  {
   "cell_type": "code",
   "execution_count": 3,
   "metadata": {},
   "outputs": [],
   "source": [
    "from keras.models import load_model"
   ]
  },
  {
   "cell_type": "code",
   "execution_count": 49,
   "metadata": {},
   "outputs": [],
   "source": [
    "model = load_model('./model/model_face_rec.h5')\n",
    "# model = load_model('./face_rec_with_label_norm.h5')"
   ]
  },
  {
   "cell_type": "code",
   "execution_count": 54,
   "metadata": {},
   "outputs": [
    {
     "data": {
      "text/plain": [
       "<matplotlib.image.AxesImage at 0x1c57eea278>"
      ]
     },
     "execution_count": 54,
     "metadata": {},
     "output_type": "execute_result"
    },
    {
     "data": {
      "image/png": "[encoded data removed]",
      "text/plain": [
       "<Figure size 432x288 with 1 Axes>"
      ]
     },
     "metadata": {
      "needs_background": "light"
     },
     "output_type": "display_data"
    }
   ],
   "source": [
    "im_idx = 52\n",
    "# img = face_rec_data_pd.iloc[:,11:].iloc[im_idx].astype('uint8').values.reshape(HEIGHT, WIDTH)\n",
    "img = X_val[im_idx]\n",
    "# img_lb = face_rec_data_pd.iloc[:,1:11].iloc[im_idx]\n",
    "img_lb = model.predict((img).reshape(-1, HEIGHT, WIDTH, 1)).reshape(-1)\n",
    "pts = get_inver_norm_pts(img_lb, is_unstd=True)\n",
    "# for x, y in zip(pts[:,0], pts[:,1]):\n",
    "img_cp = img.copy().reshape(HEIGHT, WIDTH) * 255\n",
    "img_cp = img_cp.astype('uint8')\n",
    "for i, pt in enumerate(pts):\n",
    "    img_cp = cv.circle(img_cp, (pt[0], pt[1]), 1, (0,0,255), 1)\n",
    "#     cv.putText(img_cp, str(i), (pt[0], pt[1]), cv.FONT_HERSHEY_COMPLEX, 0.25, (0,255,0), 1)\n",
    "    \n",
    "fx, fy, fw, fh = find_face_param(pts)\n",
    "cv.rectangle(img_cp, (fx, fy), (fx+fw, fy+fh), (255, 0, 0), 1)\n",
    "    \n",
    "imshow(img_cp)\n",
    "\n",
    "# **orginal plot**\n",
    "\n",
    "# img_lb = find_pts(img, is_show=True, is_rect=True, verbose=1, is_normalize=False)\n",
    "# # if len(img_lb) > 0:\n",
    "# #     pts = get_inver_norm_pts(np.array(img_lb))\n",
    "# #     plt.scatter(pts[:,0], pts[:,1])\n",
    "# print(f\"in-file: {pts.reshape(-1).tolist()}\")\n",
    "# print(f\"rec    : {img_lb}\")"
   ]
  },
  {
   "cell_type": "code",
   "execution_count": 1,
   "metadata": {},
   "outputs": [],
   "source": [
    "# img = normalize_img('/Users/Chen/Downloads/IMG_6957.JPG', \n",
    "#                     is_grey=True, \n",
    "#                     is_vectorize=False, \n",
    "#                     width=WIDTH, height=HEIGHT)#False)\n",
    "# img = img / 255\n",
    "# img_lb = model.predict((img).reshape(-1, HEIGHT, WIDTH, 1)).reshape(-1)\n",
    "# pts = get_inver_norm_pts(img_lb, is_unstd=True)\n",
    "# # for x, y in zip(pts[:,0], pts[:,1]):\n",
    "# img_cp = img.copy().reshape(HEIGHT, WIDTH) * 255\n",
    "# img_cp = img_cp.astype('uint8')\n",
    "# for i, pt in enumerate(pts):\n",
    "#     img_cp = cv.circle(img_cp, (pt[0], pt[1]), 1, (0,0,255), 1)\n",
    "    \n",
    "# fx, fy, fw, fh = find_face_param(pts)\n",
    "# cv.rectangle(img_cp, (fx, fy), (fx+fw, fy+fh), (255, 0, 0), 1)\n",
    "    \n",
    "# imshow(img_cp)"
   ]
  },
  {
   "cell_type": "code",
   "execution_count": null,
   "metadata": {},
   "outputs": [],
   "source": []
  }
 ],
 "metadata": {
  "kernelspec": {
   "display_name": "Python 3",
   "language": "python",
   "name": "python3"
  },
  "language_info": {
   "codemirror_mode": {
    "name": "ipython",
    "version": 3
   },
   "file_extension": ".py",
   "mimetype": "text/x-python",
   "name": "python",
   "nbconvert_exporter": "python",
   "pygments_lexer": "ipython3",
   "version": "3.6.6"
  }
 },
 "nbformat": 4,
 "nbformat_minor": 2
}
