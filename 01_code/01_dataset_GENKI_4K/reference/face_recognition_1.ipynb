{
 "cells": [
  {
   "cell_type": "code",
   "execution_count": 1,
   "metadata": {},
   "outputs": [],
   "source": [
    "%matplotlib inline\n",
    "import os\n",
    "import math\n",
    "import numpy as np\n",
    "import pandas as pd\n",
    "from os.path import join as pjoin\n",
    "\n",
    "import matplotlib.pyplot as plt\n",
    "import cv2 as cv\n",
    "from skimage.io import imshow, imread, imsave\n",
    "from PIL import Image\n",
    "\n",
    "import warnings\n",
    "warnings.filterwarnings('ignore')\n",
    "\n",
    "work_dir = '.'\n",
    "file_path = './face/'\n",
    "label_data = './labels.csv'"
   ]
  },
  {
   "cell_type": "code",
   "execution_count": 2,
   "metadata": {},
   "outputs": [
    {
     "name": "stderr",
     "output_type": "stream",
     "text": [
      "Using TensorFlow backend.\n"
     ]
    }
   ],
   "source": [
    "from sklearn.model_selection import train_test_split\n",
    "from keras.utils.np_utils import to_categorical\n",
    "\n",
    "from keras.models import Sequential\n",
    "from keras.layers import Dense, Dropout, Flatten, Conv2D, MaxPool2D, BatchNormalization\n",
    "from keras.optimizers import RMSprop\n",
    "from keras.preprocessing.image import ImageDataGenerator\n",
    "from keras.callbacks import ReduceLROnPlateau, EarlyStopping\n",
    "\n",
    "from sklearn.preprocessing import normalize"
   ]
  },
  {
   "cell_type": "code",
   "execution_count": 3,
   "metadata": {},
   "outputs": [],
   "source": [
    "pd_face = pd.read_csv('./face_index.csv')#, index_col=0)"
   ]
  },
  {
   "cell_type": "code",
   "execution_count": 4,
   "metadata": {},
   "outputs": [
    {
     "data": {
      "text/html": [
       "<div>\n",
       "<style scoped>\n",
       "    .dataframe tbody tr th:only-of-type {\n",
       "        vertical-align: middle;\n",
       "    }\n",
       "\n",
       "    .dataframe tbody tr th {\n",
       "        vertical-align: top;\n",
       "    }\n",
       "\n",
       "    .dataframe thead th {\n",
       "        text-align: right;\n",
       "    }\n",
       "</style>\n",
       "<table border=\"1\" class=\"dataframe\">\n",
       "  <thead>\n",
       "    <tr style=\"text-align: right;\">\n",
       "      <th></th>\n",
       "      <th>file_name</th>\n",
       "      <th>is_smile</th>\n",
       "      <th>yaw</th>\n",
       "      <th>pitch</th>\n",
       "      <th>roll</th>\n",
       "      <th>path</th>\n",
       "    </tr>\n",
       "  </thead>\n",
       "  <tbody>\n",
       "    <tr>\n",
       "      <th>0</th>\n",
       "      <td>file0001.jpg</td>\n",
       "      <td>1</td>\n",
       "      <td>-0.021162</td>\n",
       "      <td>0.059530</td>\n",
       "      <td>-0.039662</td>\n",
       "      <td>./faces/file0001.jpg</td>\n",
       "    </tr>\n",
       "    <tr>\n",
       "      <th>1</th>\n",
       "      <td>file0002.jpg</td>\n",
       "      <td>1</td>\n",
       "      <td>-0.057745</td>\n",
       "      <td>0.083098</td>\n",
       "      <td>-0.094952</td>\n",
       "      <td>./faces/file0002.jpg</td>\n",
       "    </tr>\n",
       "    <tr>\n",
       "      <th>2</th>\n",
       "      <td>file0003.jpg</td>\n",
       "      <td>1</td>\n",
       "      <td>0.095993</td>\n",
       "      <td>0.028798</td>\n",
       "      <td>0.065996</td>\n",
       "      <td>./faces/file0003.jpg</td>\n",
       "    </tr>\n",
       "    <tr>\n",
       "      <th>3</th>\n",
       "      <td>file0004.jpg</td>\n",
       "      <td>1</td>\n",
       "      <td>0.000000</td>\n",
       "      <td>0.047124</td>\n",
       "      <td>0.171268</td>\n",
       "      <td>./faces/file0004.jpg</td>\n",
       "    </tr>\n",
       "    <tr>\n",
       "      <th>4</th>\n",
       "      <td>file0005.jpg</td>\n",
       "      <td>1</td>\n",
       "      <td>0.036073</td>\n",
       "      <td>0.043633</td>\n",
       "      <td>-0.181721</td>\n",
       "      <td>./faces/file0005.jpg</td>\n",
       "    </tr>\n",
       "  </tbody>\n",
       "</table>\n",
       "</div>"
      ],
      "text/plain": [
       "      file_name  is_smile       yaw     pitch      roll                  path\n",
       "0  file0001.jpg         1 -0.021162  0.059530 -0.039662  ./faces/file0001.jpg\n",
       "1  file0002.jpg         1 -0.057745  0.083098 -0.094952  ./faces/file0002.jpg\n",
       "2  file0003.jpg         1  0.095993  0.028798  0.065996  ./faces/file0003.jpg\n",
       "3  file0004.jpg         1  0.000000  0.047124  0.171268  ./faces/file0004.jpg\n",
       "4  file0005.jpg         1  0.036073  0.043633 -0.181721  ./faces/file0005.jpg"
      ]
     },
     "execution_count": 4,
     "metadata": {},
     "output_type": "execute_result"
    }
   ],
   "source": [
    "pd_face.head()"
   ]
  },
  {
   "cell_type": "code",
   "execution_count": 5,
   "metadata": {},
   "outputs": [],
   "source": [
    "import mxnet as mx\n",
    "from mtcnn_detector import MtcnnDetector\n",
    "import cv2\n",
    "\n",
    "\n",
    "def find_pts(img, verbose=0, is_show=False , is_rect=False, is_normalize=False):\n",
    "#     img = imread(pd_face.iloc[9]['path'])\n",
    "    detector = MtcnnDetector(model_folder='model', ctx=mx.cpu(0), num_worker = 4 , accurate_landmark = False)\n",
    "    results = detector.detect_face(img)\n",
    "    draw = img.copy()\n",
    "    if results is not None:\n",
    "\n",
    "        total_boxes = results[0]\n",
    "        pts = results[1]\n",
    "        boxes = []\n",
    "        for i in range(len(pts)):\n",
    "            boxes.append([])\n",
    "            height  = pts[i][7]-pts[i][9]\n",
    "            width = pts[i][4]-pts[i][3]\n",
    "            boxes[-1].append(pts[i][3])\n",
    "            boxes[-1].append(pts[i][8]+height/2*0.8)\n",
    "            boxes[-1].append(pts[i][4])\n",
    "            boxes[-1].append(pts[i][4]-height)\n",
    "    if verbose > 0:\n",
    "        print(f\"image shape: {str(img.shape)}\")\n",
    "#         print(\"Number of faces detected: {}\".format(len(dets)))\n",
    "        \n",
    "        for i in range(len(boxes)):\n",
    "            print(\"Detection {}: Left: {} Top: {} Right: {} Bottom: {} \".format(\n",
    "                i, boxes[i][0], boxes[i][1], boxes[i][2], boxes[i][3]))\n",
    "            print(f\"aspect_ratio:{(boxes[i][3] - boxes[i][1]) / (boxes[i][2] -  boxes[i][0])}\")\n",
    "    if is_rect:\n",
    "        for i in range(len(boxes)):\n",
    "            img = cv.rectangle(draw, (int(boxes[i][0]), int(boxes[i][1])), (int(boxes[i][2]), int(boxes[i][3])), (255, 0, 0), 1)\n",
    "#     shape = predictor(img, face)\n",
    "        # use 15 points\n",
    "    for i in range(len(pts)):\n",
    "        if is_rect:\n",
    "            for j in range(5):\n",
    "                cv2.circle(draw, (pts[i][j], pts[i][j + 5]), 1, (0, 0, 255), 2)\n",
    "    \n",
    "        break\n",
    "        \n",
    "    if is_show:\n",
    "        imshow(draw)\n",
    "    \n",
    "    return pts\n",
    "\n",
    "def get_face_mouth_position(img_gen, is_compress=False, width=96, height=90,\n",
    "                            verbos=1, pt_length=5, is_debug=False, is_normalize=False):\n",
    "\n",
    "    columns = [x for x in range(pt_length)]\n",
    "    columns.insert(0, 'index')\n",
    "    columns.insert(1, 'path')\n",
    "    pts = pd.DataFrame(columns=columns)\n",
    "    \n",
    "    for index, img_path in img_gen:\n",
    "        if is_debug and index > 20:\n",
    "            break\n",
    "        try:\n",
    "            if is_compress:\n",
    "                img = normalize_img(img_path, is_grey=True, is_vectorize=False, \n",
    "                                    width=width, height=height)\n",
    "            else:\n",
    "                img = imread(img_path)\n",
    "                img = img.copy()\n",
    "#             face, mouth = find_face_mouth(img=img)\n",
    "\n",
    "            fpt = find_pts(img=img, is_normalize=is_normalize)\n",
    "\n",
    "            if len(fpt) > 0:\n",
    "#                 print(len(fpt))\n",
    "                df = pd.DataFrame(np.array(fpt).reshape((1,-1)))\n",
    "                df['index'] = index\n",
    "                df['path'] = img_path\n",
    "                pts = pts.append(df, ignore_index=True)\n",
    "            else:\n",
    "                if verbos>0:\n",
    "                    print('No face/mouth found in %s' % img_path)        \n",
    "        except:\n",
    "            print(f\"error found for {img_path}\")\n",
    "    \n",
    "    return pts\n",
    "\n",
    "def normalize_img(filename, is_grey=True, is_vectorize=False, width=96, height=90):\n",
    "    size = WIDTH, HEIGHT # (width, height)\n",
    "    im = Image.open(filename) \n",
    "    resized_im = im.resize(size, Image.ANTIALIAS) # resize image\n",
    "    result = np.array(resized_im)\n",
    "#     if is_grey:\n",
    "#         im_grey = resized_im.convert('L') # convert the image to *greyscale*\n",
    "#         im_array = np.array(im_grey) # convert to np array\n",
    "#         result = im_array\n",
    "    if is_vectorize:\n",
    "        oned_array = result.reshape(size[0] * size[1])\n",
    "        result = oned_array\n",
    "    return result#np.array(resized_im)#oned_array\n",
    "\n",
    "def img_generator(data):\n",
    "    for i in range(len(data)):\n",
    "        im_info = data.iloc[i]\n",
    "        index = im_info['index']\n",
    "        path = im_info['path']\n",
    "        yield index, path\n",
    "\n",
    "def get_partial(img, x, y, w, h):\n",
    "    return img[y:y+h, x:x+w]\n",
    "\n",
    "def check_creat_dir(save_path):\n",
    "    dir_path = os.path.dirname(save_path)\n",
    "    if not os.path.exists(dir_path):\n",
    "        print('create folder... %s' % dir_path)\n",
    "        os.makedirs(dir_path)"
   ]
  },
  {
   "cell_type": "code",
   "execution_count": 6,
   "metadata": {},
   "outputs": [],
   "source": [
    "pd_face = pd.read_csv('./face_index.csv')#, index_col=0)"
   ]
  },
  {
   "cell_type": "code",
   "execution_count": 7,
   "metadata": {},
   "outputs": [
    {
     "data": {
      "text/html": [
       "<div>\n",
       "<style scoped>\n",
       "    .dataframe tbody tr th:only-of-type {\n",
       "        vertical-align: middle;\n",
       "    }\n",
       "\n",
       "    .dataframe tbody tr th {\n",
       "        vertical-align: top;\n",
       "    }\n",
       "\n",
       "    .dataframe thead th {\n",
       "        text-align: right;\n",
       "    }\n",
       "</style>\n",
       "<table border=\"1\" class=\"dataframe\">\n",
       "  <thead>\n",
       "    <tr style=\"text-align: right;\">\n",
       "      <th></th>\n",
       "      <th>file_name</th>\n",
       "      <th>is_smile</th>\n",
       "      <th>yaw</th>\n",
       "      <th>pitch</th>\n",
       "      <th>roll</th>\n",
       "      <th>path</th>\n",
       "    </tr>\n",
       "  </thead>\n",
       "  <tbody>\n",
       "    <tr>\n",
       "      <th>0</th>\n",
       "      <td>file0001.jpg</td>\n",
       "      <td>1</td>\n",
       "      <td>-0.021162</td>\n",
       "      <td>0.059530</td>\n",
       "      <td>-0.039662</td>\n",
       "      <td>./faces/file0001.jpg</td>\n",
       "    </tr>\n",
       "    <tr>\n",
       "      <th>1</th>\n",
       "      <td>file0002.jpg</td>\n",
       "      <td>1</td>\n",
       "      <td>-0.057745</td>\n",
       "      <td>0.083098</td>\n",
       "      <td>-0.094952</td>\n",
       "      <td>./faces/file0002.jpg</td>\n",
       "    </tr>\n",
       "    <tr>\n",
       "      <th>2</th>\n",
       "      <td>file0003.jpg</td>\n",
       "      <td>1</td>\n",
       "      <td>0.095993</td>\n",
       "      <td>0.028798</td>\n",
       "      <td>0.065996</td>\n",
       "      <td>./faces/file0003.jpg</td>\n",
       "    </tr>\n",
       "    <tr>\n",
       "      <th>3</th>\n",
       "      <td>file0004.jpg</td>\n",
       "      <td>1</td>\n",
       "      <td>0.000000</td>\n",
       "      <td>0.047124</td>\n",
       "      <td>0.171268</td>\n",
       "      <td>./faces/file0004.jpg</td>\n",
       "    </tr>\n",
       "    <tr>\n",
       "      <th>4</th>\n",
       "      <td>file0005.jpg</td>\n",
       "      <td>1</td>\n",
       "      <td>0.036073</td>\n",
       "      <td>0.043633</td>\n",
       "      <td>-0.181721</td>\n",
       "      <td>./faces/file0005.jpg</td>\n",
       "    </tr>\n",
       "  </tbody>\n",
       "</table>\n",
       "</div>"
      ],
      "text/plain": [
       "      file_name  is_smile       yaw     pitch      roll                  path\n",
       "0  file0001.jpg         1 -0.021162  0.059530 -0.039662  ./faces/file0001.jpg\n",
       "1  file0002.jpg         1 -0.057745  0.083098 -0.094952  ./faces/file0002.jpg\n",
       "2  file0003.jpg         1  0.095993  0.028798  0.065996  ./faces/file0003.jpg\n",
       "3  file0004.jpg         1  0.000000  0.047124  0.171268  ./faces/file0004.jpg\n",
       "4  file0005.jpg         1  0.036073  0.043633 -0.181721  ./faces/file0005.jpg"
      ]
     },
     "execution_count": 7,
     "metadata": {},
     "output_type": "execute_result"
    }
   ],
   "source": [
    "WIDTH, HEIGHT = 96, 90 #48*2, 45*2\n",
    "pd_face.head()"
   ]
  },
  {
   "cell_type": "code",
   "execution_count": 8,
   "metadata": {},
   "outputs": [
    {
     "name": "stderr",
     "output_type": "stream",
     "text": [
      "/Users/gaotao/anaconda3/lib/python3.6/site-packages/mxnet/model.py:928: DeprecationWarning: \u001b[91mmxnet.model.FeedForward has been deprecated. Please use mxnet.mod.Module instead.\u001b[0m\n",
      "  **kwargs)\n"
     ]
    },
    {
     "name": "stdout",
     "output_type": "stream",
     "text": [
      "image shape: (90, 96, 3)\n",
      "Detection 0: Left: 36.86933517456055 Top: 57.9566535949707 Right: 57.513526916503906 Bottom: 65.80784606933594 \n",
      "aspect_ratio:0.380309995785098\n"
     ]
    },
    {
     "data": {
      "image/png": "[encoded data removed]",
      "text/plain": [
       "<Figure size 432x288 with 1 Axes>"
      ]
     },
     "metadata": {
      "needs_background": "light"
     },
     "output_type": "display_data"
    }
   ],
   "source": [
    "img = normalize_img(pd_face.iloc[26]['path'], is_vectorize=False, width=WIDTH, height=HEIGHT)\n",
    "# img = imread(pd_face.iloc[23]['path'])\n",
    "_ = find_pts(img,#imread(pd_face.iloc[23]['path']), \n",
    "             is_show=True, is_rect=True, verbose=1)"
   ]
  },
  {
   "cell_type": "markdown",
   "metadata": {},
   "source": [
    "### generate labels using dlib"
   ]
  },
  {
   "cell_type": "code",
   "execution_count": 178,
   "metadata": {},
   "outputs": [],
   "source": [
    "def get_labels(img_gen=None, is_debug=False, is_save=False):\n",
    "    \n",
    "    if img_gen == None:\n",
    "        img_gen = img_generator(pd_face.reset_index())\n",
    "    \n",
    "    labels_pd = get_face_mouth_position(img_gen, verbos=0, is_normalize=False, is_debug=is_debug,#True, \n",
    "                                        is_compress=True, width=WIDTH, height=HEIGHT)\n",
    "    # save data\n",
    "    if is_save:\n",
    "        labels_pd.to_csv('./face_5pt_data.csv', index=False)\n",
    "    \n",
    "    return labels_pd"
   ]
  },
  {
   "cell_type": "code",
   "execution_count": 214,
   "metadata": {},
   "outputs": [],
   "source": [
    "# labels_pd = get_labels(is_debug=True, is_save=False)\n",
    "labels_pd = get_labels(is_debug=False, is_save=True)"
   ]
  },
  {
   "cell_type": "code",
   "execution_count": 215,
   "metadata": {},
   "outputs": [
    {
     "data": {
      "text/html": [
       "<div>\n",
       "<style scoped>\n",
       "    .dataframe tbody tr th:only-of-type {\n",
       "        vertical-align: middle;\n",
       "    }\n",
       "\n",
       "    .dataframe tbody tr th {\n",
       "        vertical-align: top;\n",
       "    }\n",
       "\n",
       "    .dataframe thead th {\n",
       "        text-align: right;\n",
       "    }\n",
       "</style>\n",
       "<table border=\"1\" class=\"dataframe\">\n",
       "  <thead>\n",
       "    <tr style=\"text-align: right;\">\n",
       "      <th></th>\n",
       "      <th>index</th>\n",
       "      <th>path</th>\n",
       "      <th>0</th>\n",
       "      <th>1</th>\n",
       "      <th>2</th>\n",
       "      <th>3</th>\n",
       "      <th>4</th>\n",
       "      <th>5</th>\n",
       "      <th>6</th>\n",
       "      <th>7</th>\n",
       "      <th>8</th>\n",
       "      <th>9</th>\n",
       "    </tr>\n",
       "  </thead>\n",
       "  <tbody>\n",
       "    <tr>\n",
       "      <th>0</th>\n",
       "      <td>0</td>\n",
       "      <td>./faces/file0001.jpg</td>\n",
       "      <td>61</td>\n",
       "      <td>39</td>\n",
       "      <td>54</td>\n",
       "      <td>40</td>\n",
       "      <td>35</td>\n",
       "      <td>42.0</td>\n",
       "      <td>42.0</td>\n",
       "      <td>41.0</td>\n",
       "      <td>50.0</td>\n",
       "      <td>53.0</td>\n",
       "    </tr>\n",
       "    <tr>\n",
       "      <th>1</th>\n",
       "      <td>1</td>\n",
       "      <td>./faces/file0002.jpg</td>\n",
       "      <td>59</td>\n",
       "      <td>39</td>\n",
       "      <td>54</td>\n",
       "      <td>40</td>\n",
       "      <td>39</td>\n",
       "      <td>41.0</td>\n",
       "      <td>44.0</td>\n",
       "      <td>41.0</td>\n",
       "      <td>49.0</td>\n",
       "      <td>51.0</td>\n",
       "    </tr>\n",
       "    <tr>\n",
       "      <th>2</th>\n",
       "      <td>3</td>\n",
       "      <td>./faces/file0004.jpg</td>\n",
       "      <td>58</td>\n",
       "      <td>42</td>\n",
       "      <td>51</td>\n",
       "      <td>42</td>\n",
       "      <td>35</td>\n",
       "      <td>39.0</td>\n",
       "      <td>41.0</td>\n",
       "      <td>40.0</td>\n",
       "      <td>45.0</td>\n",
       "      <td>53.0</td>\n",
       "    </tr>\n",
       "    <tr>\n",
       "      <th>3</th>\n",
       "      <td>4</td>\n",
       "      <td>./faces/file0005.jpg</td>\n",
       "      <td>57</td>\n",
       "      <td>39</td>\n",
       "      <td>52</td>\n",
       "      <td>40</td>\n",
       "      <td>35</td>\n",
       "      <td>43.0</td>\n",
       "      <td>42.0</td>\n",
       "      <td>42.0</td>\n",
       "      <td>49.0</td>\n",
       "      <td>52.0</td>\n",
       "    </tr>\n",
       "    <tr>\n",
       "      <th>4</th>\n",
       "      <td>5</td>\n",
       "      <td>./faces/file0006.jpg</td>\n",
       "      <td>76</td>\n",
       "      <td>40</td>\n",
       "      <td>67</td>\n",
       "      <td>41</td>\n",
       "      <td>44</td>\n",
       "      <td>40.0</td>\n",
       "      <td>53.0</td>\n",
       "      <td>41.0</td>\n",
       "      <td>60.0</td>\n",
       "      <td>54.0</td>\n",
       "    </tr>\n",
       "  </tbody>\n",
       "</table>\n",
       "</div>"
      ],
      "text/plain": [
       "  index                  path   0   1   2   3   4     5     6     7     8  \\\n",
       "0     0  ./faces/file0001.jpg  61  39  54  40  35  42.0  42.0  41.0  50.0   \n",
       "1     1  ./faces/file0002.jpg  59  39  54  40  39  41.0  44.0  41.0  49.0   \n",
       "2     3  ./faces/file0004.jpg  58  42  51  42  35  39.0  41.0  40.0  45.0   \n",
       "3     4  ./faces/file0005.jpg  57  39  52  40  35  43.0  42.0  42.0  49.0   \n",
       "4     5  ./faces/file0006.jpg  76  40  67  41  44  40.0  53.0  41.0  60.0   \n",
       "\n",
       "      9  \n",
       "0  53.0  \n",
       "1  51.0  \n",
       "2  53.0  \n",
       "3  52.0  \n",
       "4  54.0  "
      ]
     },
     "execution_count": 215,
     "metadata": {},
     "output_type": "execute_result"
    }
   ],
   "source": [
    "labels_pd.head()"
   ]
  },
  {
   "cell_type": "markdown",
   "metadata": {},
   "source": [
    "### change img to csv format. append labels"
   ]
  },
  {
   "cell_type": "code",
   "execution_count": 216,
   "metadata": {},
   "outputs": [],
   "source": [
    "def get_both_img_data_lables(labels_pd, is_save=False):\n",
    "    imgs = []\n",
    "    for i_index in range(len(labels_pd)):\n",
    "        img = normalize_img(labels_pd.iloc[i_index].path, is_grey=True, is_vectorize=True, width=WIDTH, height=HEIGHT)#False)\n",
    "        imgs.append(img)\n",
    "    imgs = np.array(imgs)\n",
    "    face_data_pd = pd.DataFrame(imgs)\n",
    "\n",
    "    face_rec_data_pd = labels_pd.drop('index', axis=1).join(face_data_pd, lsuffix='_lb')\n",
    "    if is_save:\n",
    "        face_rec_data_pd.to_csv('./face_5pt_img_data.zip', index=False, compression='zip')\n",
    "    return face_rec_data_pd"
   ]
  },
  {
   "cell_type": "code",
   "execution_count": 217,
   "metadata": {},
   "outputs": [],
   "source": [
    "# face_rec_data_pd = get_both_img_data_lables(labels_pd, is_save=False)\n",
    "face_rec_data_pd = get_both_img_data_lables(labels_pd, is_save=True)"
   ]
  },
  {
   "cell_type": "code",
   "execution_count": 218,
   "metadata": {},
   "outputs": [
    {
     "data": {
      "text/html": [
       "<div>\n",
       "<style scoped>\n",
       "    .dataframe tbody tr th:only-of-type {\n",
       "        vertical-align: middle;\n",
       "    }\n",
       "\n",
       "    .dataframe tbody tr th {\n",
       "        vertical-align: top;\n",
       "    }\n",
       "\n",
       "    .dataframe thead th {\n",
       "        text-align: right;\n",
       "    }\n",
       "</style>\n",
       "<table border=\"1\" class=\"dataframe\">\n",
       "  <thead>\n",
       "    <tr style=\"text-align: right;\">\n",
       "      <th></th>\n",
       "      <th>path</th>\n",
       "      <th>0_lb</th>\n",
       "      <th>1_lb</th>\n",
       "      <th>2_lb</th>\n",
       "      <th>3_lb</th>\n",
       "      <th>4_lb</th>\n",
       "      <th>5_lb</th>\n",
       "      <th>6_lb</th>\n",
       "      <th>7_lb</th>\n",
       "      <th>8_lb</th>\n",
       "      <th>...</th>\n",
       "      <th>8630</th>\n",
       "      <th>8631</th>\n",
       "      <th>8632</th>\n",
       "      <th>8633</th>\n",
       "      <th>8634</th>\n",
       "      <th>8635</th>\n",
       "      <th>8636</th>\n",
       "      <th>8637</th>\n",
       "      <th>8638</th>\n",
       "      <th>8639</th>\n",
       "    </tr>\n",
       "  </thead>\n",
       "  <tbody>\n",
       "    <tr>\n",
       "      <th>0</th>\n",
       "      <td>./faces/file0001.jpg</td>\n",
       "      <td>61</td>\n",
       "      <td>39</td>\n",
       "      <td>54</td>\n",
       "      <td>40</td>\n",
       "      <td>35</td>\n",
       "      <td>42.0</td>\n",
       "      <td>42.0</td>\n",
       "      <td>41.0</td>\n",
       "      <td>50.0</td>\n",
       "      <td>...</td>\n",
       "      <td>200</td>\n",
       "      <td>195</td>\n",
       "      <td>197</td>\n",
       "      <td>194</td>\n",
       "      <td>195</td>\n",
       "      <td>199</td>\n",
       "      <td>202</td>\n",
       "      <td>200</td>\n",
       "      <td>202</td>\n",
       "      <td>202</td>\n",
       "    </tr>\n",
       "    <tr>\n",
       "      <th>1</th>\n",
       "      <td>./faces/file0002.jpg</td>\n",
       "      <td>59</td>\n",
       "      <td>39</td>\n",
       "      <td>54</td>\n",
       "      <td>40</td>\n",
       "      <td>39</td>\n",
       "      <td>41.0</td>\n",
       "      <td>44.0</td>\n",
       "      <td>41.0</td>\n",
       "      <td>49.0</td>\n",
       "      <td>...</td>\n",
       "      <td>195</td>\n",
       "      <td>197</td>\n",
       "      <td>201</td>\n",
       "      <td>214</td>\n",
       "      <td>216</td>\n",
       "      <td>214</td>\n",
       "      <td>194</td>\n",
       "      <td>190</td>\n",
       "      <td>199</td>\n",
       "      <td>203</td>\n",
       "    </tr>\n",
       "    <tr>\n",
       "      <th>2</th>\n",
       "      <td>./faces/file0004.jpg</td>\n",
       "      <td>58</td>\n",
       "      <td>42</td>\n",
       "      <td>51</td>\n",
       "      <td>42</td>\n",
       "      <td>35</td>\n",
       "      <td>39.0</td>\n",
       "      <td>41.0</td>\n",
       "      <td>40.0</td>\n",
       "      <td>45.0</td>\n",
       "      <td>...</td>\n",
       "      <td>17</td>\n",
       "      <td>17</td>\n",
       "      <td>17</td>\n",
       "      <td>17</td>\n",
       "      <td>17</td>\n",
       "      <td>17</td>\n",
       "      <td>17</td>\n",
       "      <td>17</td>\n",
       "      <td>16</td>\n",
       "      <td>16</td>\n",
       "    </tr>\n",
       "    <tr>\n",
       "      <th>3</th>\n",
       "      <td>./faces/file0005.jpg</td>\n",
       "      <td>57</td>\n",
       "      <td>39</td>\n",
       "      <td>52</td>\n",
       "      <td>40</td>\n",
       "      <td>35</td>\n",
       "      <td>43.0</td>\n",
       "      <td>42.0</td>\n",
       "      <td>42.0</td>\n",
       "      <td>49.0</td>\n",
       "      <td>...</td>\n",
       "      <td>51</td>\n",
       "      <td>48</td>\n",
       "      <td>39</td>\n",
       "      <td>38</td>\n",
       "      <td>41</td>\n",
       "      <td>47</td>\n",
       "      <td>53</td>\n",
       "      <td>47</td>\n",
       "      <td>53</td>\n",
       "      <td>50</td>\n",
       "    </tr>\n",
       "    <tr>\n",
       "      <th>4</th>\n",
       "      <td>./faces/file0006.jpg</td>\n",
       "      <td>76</td>\n",
       "      <td>40</td>\n",
       "      <td>67</td>\n",
       "      <td>41</td>\n",
       "      <td>44</td>\n",
       "      <td>40.0</td>\n",
       "      <td>53.0</td>\n",
       "      <td>41.0</td>\n",
       "      <td>60.0</td>\n",
       "      <td>...</td>\n",
       "      <td>77</td>\n",
       "      <td>88</td>\n",
       "      <td>88</td>\n",
       "      <td>92</td>\n",
       "      <td>105</td>\n",
       "      <td>103</td>\n",
       "      <td>107</td>\n",
       "      <td>113</td>\n",
       "      <td>122</td>\n",
       "      <td>128</td>\n",
       "    </tr>\n",
       "  </tbody>\n",
       "</table>\n",
       "<p>5 rows × 8651 columns</p>\n",
       "</div>"
      ],
      "text/plain": [
       "                   path 0_lb 1_lb 2_lb 3_lb 4_lb  5_lb  6_lb  7_lb  8_lb  \\\n",
       "0  ./faces/file0001.jpg   61   39   54   40   35  42.0  42.0  41.0  50.0   \n",
       "1  ./faces/file0002.jpg   59   39   54   40   39  41.0  44.0  41.0  49.0   \n",
       "2  ./faces/file0004.jpg   58   42   51   42   35  39.0  41.0  40.0  45.0   \n",
       "3  ./faces/file0005.jpg   57   39   52   40   35  43.0  42.0  42.0  49.0   \n",
       "4  ./faces/file0006.jpg   76   40   67   41   44  40.0  53.0  41.0  60.0   \n",
       "\n",
       "   ...   8630  8631  8632  8633  8634  8635  8636  8637  8638  8639  \n",
       "0  ...    200   195   197   194   195   199   202   200   202   202  \n",
       "1  ...    195   197   201   214   216   214   194   190   199   203  \n",
       "2  ...     17    17    17    17    17    17    17    17    16    16  \n",
       "3  ...     51    48    39    38    41    47    53    47    53    50  \n",
       "4  ...     77    88    88    92   105   103   107   113   122   128  \n",
       "\n",
       "[5 rows x 8651 columns]"
      ]
     },
     "execution_count": 218,
     "metadata": {},
     "output_type": "execute_result"
    }
   ],
   "source": [
    "face_rec_data_pd.head()"
   ]
  },
  {
   "cell_type": "markdown",
   "metadata": {},
   "source": [
    "**read data from saved data**"
   ]
  },
  {
   "cell_type": "code",
   "execution_count": 5,
   "metadata": {},
   "outputs": [],
   "source": [
    "WIDTH, HEIGHT = 96, 90 #48*2, 45*2"
   ]
  },
  {
   "cell_type": "code",
   "execution_count": 49,
   "metadata": {},
   "outputs": [],
   "source": [
    "labes_pd = pd.read_csv('./face_5pt_data.csv')\n",
    "face_rec_data_pd = pd.read_csv('./face_5pt_img_data.zip')"
   ]
  },
  {
   "cell_type": "markdown",
   "metadata": {},
   "source": [
    "### revert data & check accuracy"
   ]
  },
  {
   "cell_type": "code",
   "execution_count": 6,
   "metadata": {},
   "outputs": [],
   "source": [
    "def get_inver_norm_pts(img_lb, width=WIDTH, height=HEIGHT):\n",
    "    img_lb_xs = img_lb[np.arange(0, 9, 2)]\n",
    "    img_lb_ys = img_lb[np.arange(1, 11, 2)]\n",
    "\n",
    "    pts = []\n",
    "    for x,y in zip(img_lb_xs, img_lb_ys):\n",
    "#         x *= width\n",
    "#         y *= height\n",
    "        x = int(round(x))\n",
    "        y = int(round(y))\n",
    "        pts.append([x, y])\n",
    "    pts = np.array(pts)\n",
    "    return pts\n",
    "\n",
    "def find_face_param(pts):\n",
    "    eye_width = abs(pts[0][0] - pts[1][0])\n",
    "    face_x_left = pts[0][0] - eye_width * 4.3\n",
    "    face_width = eye_width*5.3\n",
    "\n",
    "    eye_y_avg = np.average(pts[0:4, 1])\n",
    "    eye_fmid_dist = pts[4][1] - eye_y_avg\n",
    "    face_y_up = eye_y_avg - eye_fmid_dist\n",
    "    face_height = eye_fmid_dist * 3.3\n",
    "    \n",
    "    return int(math.floor(face_x_left)), int(math.floor(face_y_up)), int(math.ceil(face_width)), int(math.ceil(face_height))"
   ]
  },
  {
   "cell_type": "markdown",
   "metadata": {},
   "source": [
    "**reverted data**"
   ]
  },
  {
   "cell_type": "code",
   "execution_count": 16,
   "metadata": {},
   "outputs": [],
   "source": [
    "img2 = normalize_img('./faces/file0001.jpg', is_grey=True, is_vectorize=False, \n",
    "                                    width=WIDTH, height=HEIGHT)"
   ]
  },
  {
   "cell_type": "code",
   "execution_count": 26,
   "metadata": {},
   "outputs": [
    {
     "data": {
      "text/plain": [
       "array([[ 15,  20,  25, ..., 109, 111, 114],\n",
       "       [ 33,  29,  29, ..., 109, 111, 114],\n",
       "       [100,  79,  58, ..., 109, 111, 114],\n",
       "       ...,\n",
       "       [192, 190, 194, ..., 204, 196, 204],\n",
       "       [194, 193, 193, ..., 203, 198, 201],\n",
       "       [197, 197, 191, ..., 200, 202, 202]], dtype=uint8)"
      ]
     },
     "execution_count": 26,
     "metadata": {},
     "output_type": "execute_result"
    }
   ],
   "source": [
    "img2"
   ]
  },
  {
   "cell_type": "code",
   "execution_count": 33,
   "metadata": {},
   "outputs": [],
   "source": [
    "img = img.astype('uint8')"
   ]
  },
  {
   "cell_type": "code",
   "execution_count": 52,
   "metadata": {},
   "outputs": [
    {
     "data": {
      "text/plain": [
       "<matplotlib.image.AxesImage at 0x1c325c96d8>"
      ]
     },
     "execution_count": 52,
     "metadata": {},
     "output_type": "execute_result"
    },
    {
     "data": {
      "image/png": "[encoded data removed]",
      "text/plain": [
       "<Figure size 432x288 with 1 Axes>"
      ]
     },
     "metadata": {
      "needs_background": "light"
     },
     "output_type": "display_data"
    }
   ],
   "source": [
    "imshow(img)"
   ]
  },
  {
   "cell_type": "code",
   "execution_count": 51,
   "metadata": {},
   "outputs": [
    {
     "data": {
      "text/plain": [
       "<matplotlib.image.AxesImage at 0x1c30efdd68>"
      ]
     },
     "execution_count": 51,
     "metadata": {},
     "output_type": "execute_result"
    },
    {
     "data": {
      "image/png": "[encoded data removed]",
      "text/plain": [
       "<Figure size 432x288 with 1 Axes>"
      ]
     },
     "metadata": {
      "needs_background": "light"
     },
     "output_type": "display_data"
    }
   ],
   "source": [
    "im_idx = 13\n",
    "img = face_rec_data_pd.iloc[:,11:].iloc[im_idx].astype('uint8').values.reshape(HEIGHT, WIDTH)\n",
    "img_lb = face_rec_data_pd.iloc[:,1:11].iloc[im_idx]\n",
    "pts = get_inver_norm_pts(img_lb)\n",
    "# for x, y in zip(pts[:,0], pts[:,1]):\n",
    "img_cp = img.copy()\n",
    "for i, pt in enumerate(pts):\n",
    "    img_cp = cv.circle(img_cp, (pt[0], pt[1]), 1, (0,0,255), 1)\n",
    "    cv.putText(img_cp, str(i), (pt[0], pt[1]), cv.FONT_HERSHEY_COMPLEX, 0.25, (0,255,0), 1)\n",
    "    \n",
    "fx, fy, fw, fh = find_face_param(pts)\n",
    "cv.rectangle(img_cp, (fx, fy), (fx+fw, fy+fh), (255, 0, 0), 1)\n",
    "    \n",
    "imshow(img_cp)"
   ]
  },
  {
   "cell_type": "markdown",
   "metadata": {},
   "source": [
    "**orginal plot**"
   ]
  },
  {
   "cell_type": "code",
   "execution_count": 231,
   "metadata": {},
   "outputs": [
    {
     "name": "stdout",
     "output_type": "stream",
     "text": [
      "image shape: (90, 96)\n",
      "Number of faces detected: 1\n",
      "Detection 0: Left: 26 Top: 26 Right: 69 Bottom: 70 \n",
      "aspect_ratio:1.0232558139534884\n"
     ]
    },
    {
     "data": {
      "image/png": "[encoded data removed]",
      "text/plain": [
       "<Figure size 432x288 with 1 Axes>"
      ]
     },
     "metadata": {
      "needs_background": "light"
     },
     "output_type": "display_data"
    }
   ],
   "source": [
    "img_lb = find_pts(img, is_show=True, is_rect=True, verbose=1, is_normalize=False)\n",
    "# if len(img_lb) > 0:\n",
    "#     pts = get_inver_norm_pts(np.array(img_lb))\n",
    "#     plt.scatter(pts[:,0], pts[:,1])"
   ]
  },
  {
   "cell_type": "code",
   "execution_count": 232,
   "metadata": {},
   "outputs": [
    {
     "name": "stdout",
     "output_type": "stream",
     "text": [
      "in-file: [61, 38, 53, 40, 34, 39, 41, 40, 47, 53]\n",
      "rec    : [61, 38, 53, 39, 34, 39, 41, 40, 47, 53]\n"
     ]
    }
   ],
   "source": [
    "print(f\"in-file: {pts.reshape(-1).tolist()}\")\n",
    "print(f\"rec    : {img_lb}\")"
   ]
  },
  {
   "cell_type": "code",
   "execution_count": 326,
   "metadata": {},
   "outputs": [
    {
     "data": {
      "text/plain": [
       "(90, 96)"
      ]
     },
     "execution_count": 326,
     "metadata": {},
     "output_type": "execute_result"
    }
   ],
   "source": [
    "img.shape"
   ]
  },
  {
   "cell_type": "markdown",
   "metadata": {},
   "source": [
    "## train model"
   ]
  },
  {
   "cell_type": "code",
   "execution_count": 160,
   "metadata": {},
   "outputs": [],
   "source": [
    "# labels_pd = face_rec_data_pd.iloc[:,:9]"
   ]
  },
  {
   "cell_type": "code",
   "execution_count": 290,
   "metadata": {},
   "outputs": [],
   "source": [
    "face_rec_data_pd = pd.read_csv('./face_5pt_img_data.zip')"
   ]
  },
  {
   "cell_type": "code",
   "execution_count": 173,
   "metadata": {},
   "outputs": [],
   "source": [
    "face_data = face_rec_data_pd.iloc[:,11:].astype('uint8')\n",
    "face_labels_pd = face_rec_data_pd.iloc[:,1:11]"
   ]
  },
  {
   "cell_type": "code",
   "execution_count": 184,
   "metadata": {},
   "outputs": [],
   "source": [
    "face_data = face_data / 255"
   ]
  },
  {
   "cell_type": "code",
   "execution_count": 185,
   "metadata": {},
   "outputs": [],
   "source": [
    "face_data = face_data.values.reshape(-1, HEIGHT, WIDTH, 1)"
   ]
  },
  {
   "cell_type": "code",
   "execution_count": 205,
   "metadata": {},
   "outputs": [],
   "source": [
    "face_labels_pd['cx'] = (face_labels_pd['fx']+face_labels_pd['fw']) / 2\n",
    "face_labels_pd['cy'] = (face_labels_pd['fy']+face_labels_pd['fh']) / 2"
   ]
  },
  {
   "cell_type": "code",
   "execution_count": 207,
   "metadata": {},
   "outputs": [],
   "source": [
    "face_labels_pd = face_labels_pd[['cx', 'cy']]"
   ]
  },
  {
   "cell_type": "code",
   "execution_count": 208,
   "metadata": {},
   "outputs": [],
   "source": [
    "random_seed = 5012\n",
    "X_train, X_val, Y_train, Y_val = train_test_split(face_data, face_labels_pd, test_size=0.3, random_state=random_seed)"
   ]
  },
  {
   "cell_type": "code",
   "execution_count": 210,
   "metadata": {},
   "outputs": [],
   "source": [
    "model = Sequential()\n",
    "model.add(Conv2D(filters=32, kernel_size=(3,3), padding='Same',\n",
    "                activation='relu', input_shape=(HEIGHT, WIDTH, 1)))\n",
    "# model.add(BatchNormalization())\n",
    "model.add(Conv2D(filters=64, kernel_size=(2,2), padding='Same',\n",
    "                activation='relu'))\n",
    "# model.add(BatchNormalization())\n",
    "model.add(Conv2D(filters=128, kernel_size=(2,2), padding='Same',\n",
    "                activation='relu'))\n",
    "model.add(MaxPool2D(pool_size=(2,2)))\n",
    "# model.add(Dropout(0.25))\n",
    "\n",
    "# model.add(Conv2D(filters=64, kernel_size=(2,2), padding='Same',\n",
    "#                 activation='relu'))\n",
    "# model.add(BatchNormalization())\n",
    "# model.add(Conv2D(filters=64, kernel_size=(2,2), padding='Same',\n",
    "#                 activation='relu'))\n",
    "# model.add(BatchNormalization())\n",
    "# model.add(MaxPool2D(pool_size=(2,2), strides=(1,1)))\n",
    "# model.add(Dropout(0.25))\n",
    "\n",
    "model.add(Flatten())\n",
    "model.add(Dense(1024, activation='relu'))\n",
    "model.add(Dropout(0.5))\n",
    "model.add(Dense(1024, activation='relu'))\n",
    "model.add(Dense(units=2, activation='relu'))"
   ]
  },
  {
   "cell_type": "code",
   "execution_count": 211,
   "metadata": {},
   "outputs": [
    {
     "name": "stdout",
     "output_type": "stream",
     "text": [
      "_________________________________________________________________\n",
      "Layer (type)                 Output Shape              Param #   \n",
      "=================================================================\n",
      "conv2d_18 (Conv2D)           (None, 45, 48, 32)        320       \n",
      "_________________________________________________________________\n",
      "conv2d_19 (Conv2D)           (None, 45, 48, 64)        8256      \n",
      "_________________________________________________________________\n",
      "conv2d_20 (Conv2D)           (None, 45, 48, 128)       32896     \n",
      "_________________________________________________________________\n",
      "max_pooling2d_8 (MaxPooling2 (None, 22, 24, 128)       0         \n",
      "_________________________________________________________________\n",
      "flatten_6 (Flatten)          (None, 67584)             0         \n",
      "_________________________________________________________________\n",
      "dense_13 (Dense)             (None, 1024)              69207040  \n",
      "_________________________________________________________________\n",
      "dropout_10 (Dropout)         (None, 1024)              0         \n",
      "_________________________________________________________________\n",
      "dense_14 (Dense)             (None, 1024)              1049600   \n",
      "_________________________________________________________________\n",
      "dense_15 (Dense)             (None, 2)                 2050      \n",
      "=================================================================\n",
      "Total params: 70,300,162\n",
      "Trainable params: 70,300,162\n",
      "Non-trainable params: 0\n",
      "_________________________________________________________________\n"
     ]
    }
   ],
   "source": [
    "# define the optimizer\n",
    "optimizer = RMSprop(lr=0.001, rho=0.9, epsilon=1e-08, decay=0.0)\n",
    "# compile the model\n",
    "model.compile(optimizer=optimizer, loss='mse', metrics=['accuracy'])\n",
    "\n",
    "model.summary()"
   ]
  },
  {
   "cell_type": "code",
   "execution_count": 212,
   "metadata": {},
   "outputs": [],
   "source": [
    "datagen = ImageDataGenerator(featurewise_center=False,\n",
    "                            samplewise_center=False,\n",
    "                            featurewise_std_normalization=False,\n",
    "                            samplewise_std_normalization=False,\n",
    "                            zca_whitening=False,\n",
    "                            rotation_range=10,\n",
    "                            zoom_range=0.1,\n",
    "                            width_shift_range=0.1,\n",
    "                            height_shift_range=0.1,\n",
    "                            horizontal_flip=False,\n",
    "                            vertical_flip=False)\n",
    "datagen.fit(X_train)"
   ]
  },
  {
   "cell_type": "code",
   "execution_count": 213,
   "metadata": {},
   "outputs": [],
   "source": [
    "# set a early stopping\n",
    "early_stopping = EarlyStopping(monitor='val_loss', patience=50, verbose=2)\n",
    "# set a learning rate annealer\n",
    "learning_rate_reduction = ReduceLROnPlateau(monitor='val_acc',\n",
    "                                           patience=3,\n",
    "                                           verbose=1,\n",
    "                                           factor=0.5,\n",
    "                                           min_lr=0.0001)\n",
    "epochs = 30\n",
    "batch_size = 170"
   ]
  },
  {
   "cell_type": "code",
   "execution_count": 222,
   "metadata": {},
   "outputs": [],
   "source": [
    "# # without data augmentation\n",
    "# history = model.fit(X_train, Y_train, batch_size=batch_size,\n",
    "#                     epochs=epochs, validation_data=(X_val, Y_val), verbose=2)\n",
    "# with data augmentation\n",
    "history = model.fit_generator(datagen.flow(X_train, Y_train, batch_size=batch_size), \n",
    "                              epochs=epochs, \n",
    "                              validation_data=(X_val, Y_val), \n",
    "                              verbose=2, \n",
    "#                               steps_per_epoch=X_train[0], \n",
    "                              callbacks=[learning_rate_reduction])"
   ]
  },
  {
   "cell_type": "code",
   "execution_count": 204,
   "metadata": {},
   "outputs": [
    {
     "data": {
      "image/png": "[encoded data removed]",
      "text/plain": [
       "<Figure size 432x288 with 2 Axes>"
      ]
     },
     "metadata": {
      "needs_background": "light"
     },
     "output_type": "display_data"
    }
   ],
   "source": [
    "fig, ax = plt.subplots(2,1)\n",
    "ax[0].plot(history.history['loss'], color='b', label='Traning loss')\n",
    "ax[0].plot(history.history['val_loss'], color='r', label='Validation loss', axes=ax[0])\n",
    "legend = ax[0].legend(loc='best', shadow=True)\n",
    "\n",
    "ax[1].plot(history.history['acc'], color='b', label='Training accuracy')\n",
    "ax[1].plot(history.history['val_acc'], color='r', label='Validation accuracy')\n",
    "legend = ax[1].legend(loc='best', shadow=True)\n",
    "fig.show()"
   ]
  },
  {
   "cell_type": "code",
   "execution_count": null,
   "metadata": {},
   "outputs": [],
   "source": []
  }
 ],
 "metadata": {
  "kernelspec": {
   "display_name": "Python 3",
   "language": "python",
   "name": "python3"
  },
  "language_info": {
   "codemirror_mode": {
    "name": "ipython",
    "version": 3
   },
   "file_extension": ".py",
   "mimetype": "text/x-python",
   "name": "python",
   "nbconvert_exporter": "python",
   "pygments_lexer": "ipython3",
   "version": "3.6.5"
  }
 },
 "nbformat": 4,
 "nbformat_minor": 2
}
